{
  "nbformat": 4,
  "nbformat_minor": 0,
  "metadata": {
    "colab": {
      "name": "KNN.ipynb",
      "provenance": [],
      "collapsed_sections": [],
      "include_colab_link": true
    },
    "kernelspec": {
      "name": "python3",
      "display_name": "Python 3"
    },
    "language_info": {
      "name": "python"
    }
  },
  "cells": [
    {
      "cell_type": "markdown",
      "metadata": {
        "id": "view-in-github",
        "colab_type": "text"
      },
      "source": [
        "<a href=\"https://colab.research.google.com/github/jscastanos/python-k-nearest-neighbor/blob/main/KNN.ipynb\" target=\"_parent\"><img src=\"https://colab.research.google.com/assets/colab-badge.svg\" alt=\"Open In Colab\"/></a>"
      ]
    },
    {
      "cell_type": "markdown",
      "source": [
        "# **K- Nearest Neighbor using Euclidean Formula**\n",
        "\n",
        "where distance; $d = √[(x_2 – x_1)^2 + (y_2 – y_1)^2]$\n",
        "\n",
        "and dataset; $ds = [[2.7810836,2.550537003,0],\n",
        "  [1.465489372,2.362125076,0],\n",
        "  [3.396561688,4.400293529,0],\n",
        "  [1.38807019,1.850220317,0],\n",
        "  [3.06407232,3.005305973,0],\n",
        "  [7.627531214,2.759262235,1],\n",
        "  [5.332441248,2.088626775,1],\n",
        "  [6.922596716,1.77106367,1],\n",
        "  [8.675418651,-0.242068655,1],\n",
        "  [7.673756466,3.508563011,1]]$\n",
        "\n",
        "\n",
        "## I - Methods\n",
        "\n",
        "Perform the following:\n",
        "\n",
        "1. Create A method that will compute for a euclidean distance of 2 data points of all data points in the dataset.\n",
        "2. Sort the distances in ascending order.\n",
        "3. Show the class of the nearest neighbor based on k variable.\n",
        "4. Predict the class"
      ],
      "metadata": {
        "id": "Keb2bnJD6mlI"
      }
    },
    {
      "cell_type": "code",
      "source": [
        "import math\n",
        "\n",
        "ds = [[2.7810836,2.550537003,0],[1.465489372,2.362125076,0],[3.396561688,4.400293529,0],[1.38807019,1.850220317,0],[3.06407232,3.005305973,0],[7.627531214,2.759262235,1],[5.332441248,2.088626775,1],[6.922596716,1.77106367,1],[8.675418651,-0.242068655,1],[7.673756466,3.508563011,1]]\n",
        "\n",
        "\n",
        "def calculateDistance(x,y,x2,y2):\n",
        "  xVal = (x - x2)**2\n",
        "  yVal = (y - y2)**2\n",
        "  return math.sqrt(xVal + yVal)\n",
        "\n",
        "\n",
        "\n",
        "\n",
        "def kNN(x,y):\n",
        "  distances = {}\n",
        "\n",
        "  for data in ds:\n",
        "    # destructure\n",
        "    x2,y2,_ = data\n",
        "    # get distance\n",
        "    distance = calculateDistance(x,y,x2,y2)\n",
        "    # store in dictionary\n",
        "    distances[distance] = data\n",
        "  \n",
        "  return distances\n",
        "\n",
        "def sortKeys(data):\n",
        "    dArray = []\n",
        "    # get distance value\n",
        "    for key in data:\n",
        "        dArray.append(key)\n",
        "    # sort\n",
        "    dArray.sort()\n",
        "    #return sorted data\n",
        "    return dArray"
      ],
      "metadata": {
        "id": "0Ah_hcks7ZKJ"
      },
      "execution_count": null,
      "outputs": []
    },
    {
      "cell_type": "markdown",
      "source": [
        "## II - Testing"
      ],
      "metadata": {
        "id": "Ae96Tp8It8x2"
      }
    },
    {
      "cell_type": "code",
      "source": [
        "def main():\n",
        "  print(\"\"\"\n",
        "    K- Nearest Neighbor\n",
        "    In order to test please provide k (x,y) value\n",
        "    \"\"\")\n",
        "  x = input(\"Enter x value: \")\n",
        "  y = input(\"Enter y value: \")\n",
        "\n",
        "  # sanitze value\n",
        "  floatX = float(x)\n",
        "  floatY = float(y)\n",
        "  # run kNN\n",
        "  distances = kNN(floatX,floatY)\n",
        "  # sort distances\n",
        "  sortedDistances = sortKeys(distances)\n",
        "  # get nearest neighbor\n",
        "  nearestNeighbor = distances[sortedDistances[0]]\n",
        "\n",
        "  print(f\"\"\"\n",
        "     Result:\n",
        "\n",
        "     Sorted Distances : {sortedDistances}\n",
        "     Nearest Neighbor Class : {nearestNeighbor[2]}\n",
        "     Predicted Test Class : {nearestNeighbor[2]}\n",
        "  \"\"\")\n",
        "\n",
        "\n",
        "# start machine\n",
        "main();"
      ],
      "metadata": {
        "colab": {
          "base_uri": "https://localhost:8080/"
        },
        "id": "l22bQYJHt-FL",
        "outputId": "2f8b5b28-a48a-4229-b73a-27f63b0245e5"
      },
      "execution_count": null,
      "outputs": [
        {
          "output_type": "stream",
          "name": "stdout",
          "text": [
            "\n",
            "    K- Nearest Neighbor\n",
            "    In order to test please provide k (x,y) value\n",
            "    \n",
            "Enter x value: 1\n",
            "Enter y value: 1\n",
            "\n",
            "     Result:\n",
            "\n",
            "     Sorted Distances : [0.9345978064420098, 1.4394669423480901, 2.3614452752204915, 2.877785014127994, 4.159988462453794, 4.467119365163494, 5.972578257634457, 6.857052836608561, 7.129650324359127, 7.775267584582036]\n",
            "     Nearest Neighbor Class : 0\n",
            "     Predicted Test Class : 0\n",
            "  \n"
          ]
        }
      ]
    }
  ]
}