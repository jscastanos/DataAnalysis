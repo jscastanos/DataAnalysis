{
 "cells": [
  {
   "cell_type": "markdown",
   "metadata": {},
   "source": [
    "# Social Networking Apps/Sites Usage of Filipinos During Enhanced Community Quarantine (ECQ)\n",
    "\n",
    "An Unofficial Online Survey conducted during the implementation of Enhanced Community Quarantine (ECQ) in the Philippines as part of my Capstone Project on my Data Engineering course at Project SPARTA (Smarter Philippines through Data Analytics R&D, Training and Adoption).\n",
    " \n",
    "### Background of Study\n",
    "\n",
    "As of January 2020, the world’s internet users will spend a cumulative 1.25 billion years online with more than one-third of that time spent using social media. And the Philippines ranked as the highest internet user spending with an average of 9 hours and 45 minutes per day online. But the data was collected before the COVID-19 pandemic crisis and before the implementation of Enhanced Community Quarantine (ECQ) in the Philippines.\n",
    "\n",
    "\n",
    "### Purpose\n",
    "\n",
    "The main purpose of my research is to identify the changes and the effect of the implementation of Enhanced Community Quarantine (ECQ) on Social Networking Apps/Site usage amongst Filipinos.\n",
    "\n",
    "\n",
    "### Contents\n",
    "\n",
    "1. A demographics of respondents that shows:\n",
    "    - Age\n",
    "    - Sex\n",
    "    - Location/Residence (by Region)\n",
    "    \n",
    "    \n",
    "2. A side-by-side comparison of Social Site usage before and during the implementation of Enhanced Community Quarantine (ECQ) in the Philippines.\n",
    "\n",
    "\n",
    "### Disclaimer\n",
    "\n",
    "1. This is a small unofficial survey with 50 respondents from different parts of the Philippines who participated in the online survey conducted during the implementation of Enhanced Community Quarantine (ECQ).\n",
    "2. The survey conducted did not follow any statistical principles and solutions.\n",
    "2. Please bear in mind that this is an experimental project that I do to enhance my skills in Data Engineering.\n",
    "\n",
    "\n",
    "### Importing of Data from a CSV file"
   ]
  },
  {
   "cell_type": "code",
   "execution_count": 1,
   "metadata": {},
   "outputs": [],
   "source": [
    "import pandas as pd\n",
    "import matplotlib.pyplot as plt\n",
    "\n",
    "df = pd.read_csv('data/survey_data.csv')"
   ]
  },
  {
   "cell_type": "markdown",
   "metadata": {},
   "source": [
    "### Counting and Filtering Functions"
   ]
  },
  {
   "cell_type": "code",
   "execution_count": 49,
   "metadata": {},
   "outputs": [],
   "source": [
    "def count_if(array, condition):\n",
    "    return (array == condition).sum()\n",
    "\n",
    "def count_from_labels(array, labels):\n",
    "    count = []\n",
    "    for i in range(len(labels)):\n",
    "        count.append(count_if(array, labels[i]))\n",
    "    return count"
   ]
  },
  {
   "cell_type": "markdown",
   "metadata": {},
   "source": [
    "### Create Pie Chart Function"
   ]
  },
  {
   "cell_type": "code",
   "execution_count": 50,
   "metadata": {},
   "outputs": [],
   "source": [
    "def create_pie(figure_title, data, labels, legend_title):\n",
    "    fig, ax = plt.subplots(figsize=(6,12), subplot_kw=dict(aspect=\"equal\"))\n",
    "\n",
    "    wedges, texts, autotexts = ax.pie(data, autopct= '%1.1f%%', textprops=dict(color=\"w\"))\n",
    "\n",
    "    ax.legend(wedges, labels, title=legend_title, loc='center left', bbox_to_anchor=(1, 0, 0.5, 1))\n",
    "\n",
    "    plt.setp(autotexts, size=15, weight='bold')\n",
    "\n",
    "    ax.set_title(figure_title)\n",
    "\n",
    "    plt.show()"
   ]
  },
  {
   "cell_type": "markdown",
   "metadata": {},
   "source": [
    "### Demographics of the Respondents"
   ]
  },
  {
   "cell_type": "code",
   "execution_count": 52,
   "metadata": {},
   "outputs": [
    {
     "data": {
      "image/png": "[encoded data removed]",
      "text/plain": [
       "<Figure size 432x864 with 1 Axes>"
      ]
     },
     "metadata": {},
     "output_type": "display_data"
    }
   ],
   "source": [
    "labels = 'Male', 'Female'\n",
    "sizes = count_from_labels(df.sex, labels)\n",
    "\n",
    "create_pie('Figure 1: Sex', sizes, labels, 'Sex')"
   ]
  }
 ],
 "metadata": {
  "kernelspec": {
   "display_name": "Python 3",
   "language": "python",
   "name": "python3"
  },
  "language_info": {
   "codemirror_mode": {
    "name": "ipython",
    "version": 3
   },
   "file_extension": ".py",
   "mimetype": "text/x-python",
   "name": "python",
   "nbconvert_exporter": "python",
   "pygments_lexer": "ipython3",
   "version": "3.8.2"
  }
 },
 "nbformat": 4,
 "nbformat_minor": 4
}
