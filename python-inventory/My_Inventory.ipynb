{
  "nbformat": 4,
  "nbformat_minor": 0,
  "metadata": {
    "colab": {
      "name": "My Inventory.ipynb",
      "provenance": [],
      "collapsed_sections": [],
      "authorship_tag": "ABX9TyNC1u+qf2eP/EvncvUCe8Y0",
      "include_colab_link": true
    },
    "kernelspec": {
      "name": "python3",
      "display_name": "Python 3"
    },
    "language_info": {
      "name": "python"
    }
  },
  "cells": [
    {
      "cell_type": "markdown",
      "metadata": {
        "id": "view-in-github",
        "colab_type": "text"
      },
      "source": [
        "<a href=\"https://colab.research.google.com/github/jscastanos/python-my-inventory/blob/main/My_Inventory.ipynb\" target=\"_parent\"><img src=\"https://colab.research.google.com/assets/colab-badge.svg\" alt=\"Open In Colab\"/></a>"
      ]
    },
    {
      "cell_type": "markdown",
      "source": [
        "# Inventory System\n",
        "\n",
        "A simply inventory system built using python that can do basic things such as **Add Item**, **Update Item**, **Delete Item**, **View Item** and **View All Item**.\n",
        "\n",
        "\n",
        "\n",
        "## I - Default Data\n",
        "\n",
        "The Inventory System has already stored **10 default items** that are identified using a **unique id** as a key (which starts at `1001`) that holds the item details such as `name`, `price` and `quantity` as values."
      ],
      "metadata": {
        "id": "VneKbmVxMPed"
      }
    },
    {
      "cell_type": "code",
      "source": [
        "itemDict = {\n",
        "  \"1001\": {\n",
        "    \"name\": \"Jif Extra Crunchy Peanut Butter 454g (16oz)\",\n",
        "    \"price\": 227,\n",
        "    \"quantity\": 200\n",
        "  },\n",
        "  \"1002\": {\n",
        "    \"name\": \"Arabica Coffee Beans 1kg \",\n",
        "    \"price\": 470,\n",
        "    \"quantity\": 120\n",
        "  },\n",
        "  \"1003\": {\n",
        "    \"name\": \"Century Tuna Flakes in Vegetable Oil 180g\",\n",
        "    \"price\": 36,\n",
        "    \"quantity\": 200\n",
        "  },\n",
        "  \"1004\": {\n",
        "    \"name\": \"Queensland Mantequilla Butter 500g\",\n",
        "    \"price\": 379,\n",
        "    \"quantity\": 200\n",
        "  },\n",
        "  \"1005\": {\n",
        "    \"name\": \"Lipton Pure Green Tea\",\n",
        "    \"price\": 135,\n",
        "    \"quantity\": 200\n",
        "  },\n",
        "  \"1006\": {\n",
        "    \"name\": \"Quaker Rolled Oats 1.2kg\",\n",
        "    \"price\": 180,\n",
        "    \"quantity\": 200\n",
        "  },\n",
        "  \"1007\": {\n",
        "    \"name\": \"Kraft Philadelphia Cream Cheese 250g\",\n",
        "    \"price\": 145,\n",
        "    \"quantity\": 200\n",
        "  },\n",
        "  \"1008\": {\n",
        "    \"name\": \"Nestlé Low-Fat Milk 100ml\",\n",
        "    \"price\": 112,\n",
        "    \"quantity\": 130\n",
        "  },\n",
        "  \"1009\": {\n",
        "    \"name\": \"Pascual Creamy Delight Plain Greek Yogurt,\",\n",
        "    \"price\": 164,\n",
        "    \"quantity\": 150\n",
        "  },\n",
        "  \"1010\": {\n",
        "    \"name\": \"Anchor Whipping Cream 1kg\",\n",
        "    \"price\": 299,\n",
        "    \"quantity\": 110\n",
        "  }\n",
        "}"
      ],
      "metadata": {
        "id": "sucR2DVeprZl"
      },
      "execution_count": 56,
      "outputs": []
    },
    {
      "cell_type": "markdown",
      "source": [
        "## II - Functions\n",
        "\n",
        "### A.) Add Item Function\n",
        "\n",
        "A function that adds an item to the inventory system, simple you only need to provide the `name`, `price` and `quantity` of the item respectively. There's no longer a need to provide an **item id** as the system will generate the unique id upon successful entry.\n",
        "\n",
        "\n",
        "Usage:\n",
        " ```python \n",
        " addItem(\"Bear Brand 1kl\", 220, 10)\n",
        "```"
      ],
      "metadata": {
        "id": "rjJJhwL9SHrq"
      }
    },
    {
      "cell_type": "code",
      "source": [
        "def addItem(name, price, quantity):\n",
        "  # get last item id\n",
        "  lastItemId = [*itemDict.keys()][-1]\n",
        "  # new item id\n",
        "  newItemId = str(int(lastItemId) + 1)\n",
        "  # insert new item\n",
        "  itemDict[newItemId] = {\"name\": name, \"price\": price, \"quantity\": quantity}\n",
        "\n",
        "  # inform user\n",
        "  print(\"\\Successfully Added an Item!\")"
      ],
      "metadata": {
        "id": "Ari4yKIUMTvt"
      },
      "execution_count": 132,
      "outputs": []
    },
    {
      "cell_type": "markdown",
      "source": [
        "### B.) Update Item Function\n",
        "\n",
        "A function that updates an item in the inventory system. Simply provide the `id` and  `changes` or values that needs to be updated (eg. `{name: \"new name\", ...}`). \n",
        "\n",
        "\n",
        "\n",
        "Usage:\n",
        " ```python \n",
        " updateItem(\"1011\", { name: \"Nestle Bear Brand 1Kl\"})\n",
        "```"
      ],
      "metadata": {
        "id": "43EoXPFzUZpo"
      }
    },
    {
      "cell_type": "code",
      "source": [
        "def updateItem(id, changes):\n",
        "  # get old data value\n",
        "  oldData = itemDict[id]\n",
        "  # spread old data first to retain unchanged values\n",
        "  # then add in new changes\n",
        "  itemDict.update({id :{**oldData, **changes}})\n",
        "\n",
        "    # inform user\n",
        "  print(f\"\\nSuccessfully Updated an Item {id}!\")"
      ],
      "metadata": {
        "id": "crDBVhvbQ3xZ"
      },
      "execution_count": 134,
      "outputs": []
    },
    {
      "cell_type": "markdown",
      "source": [
        "### C.) Delete Item Function\n",
        "\n",
        "A function that deletes an item in the inventory system. Simply provide the `id` of the item that needs to be deleted.\n",
        "\n",
        "\n",
        "Usage:\n",
        " ```python \n",
        " deleteItem(\"1011\")\n",
        "```"
      ],
      "metadata": {
        "id": "ZP4a5CDWZq6t"
      }
    },
    {
      "cell_type": "code",
      "source": [
        "def deleteItem(id):\n",
        "  itemDict.pop(id)\n",
        "\n",
        "  # inform user\n",
        "  print(f\"\\Successfully Deleted Item {id}!\")"
      ],
      "metadata": {
        "id": "qEI4QZe4Zqio"
      },
      "execution_count": 136,
      "outputs": []
    },
    {
      "cell_type": "markdown",
      "source": [
        "### D.) View Item Function\n",
        "\n",
        "A function that displays an item in the inventory system. Simply provide the `id` of the item that you want to view.\n",
        "\n",
        "Usage:\n",
        " ```python \n",
        " viewItem(\"1011\")\n",
        "```"
      ],
      "metadata": {
        "id": "Y-FXblZ4ahOG"
      }
    },
    {
      "cell_type": "code",
      "source": [
        "def viewItem(id):\n",
        "  # get item object\n",
        "  item = itemDict[id]\n",
        "  # get values\n",
        "  name = item[\"name\"]\n",
        "  price = item[\"price\"]\n",
        "  quantity = item[\"quantity\"]\n",
        "\n",
        "  # print details\n",
        "  print(f\"\"\"\n",
        "  {\"-\"*40}\n",
        "  Item ID: {id}\n",
        "  Name: {name}\n",
        "  Price: {price}\n",
        "  Total Quantity: {quantity}\n",
        "  {\"-\"*40}\n",
        "  \"\"\")"
      ],
      "metadata": {
        "id": "yKapP0shahdZ"
      },
      "execution_count": 127,
      "outputs": []
    },
    {
      "cell_type": "markdown",
      "source": [
        "### E.) View All Item Function\n",
        "\n",
        "A function that displays all items in the inventory system.\n",
        "\n",
        "\n",
        "\n",
        "# Usage:\n",
        " ```python \n",
        " viewAll()\n",
        "```"
      ],
      "metadata": {
        "id": "goCdV16jciQw"
      }
    },
    {
      "cell_type": "code",
      "source": [
        "def viewAll():\n",
        "  # loop through all items\n",
        "  print(\"List of all Items in the Inventory System\")\n",
        "  for key in itemDict:\n",
        "    viewItem(key)"
      ],
      "metadata": {
        "id": "U3zP82SRciAJ"
      },
      "execution_count": 128,
      "outputs": []
    },
    {
      "cell_type": "markdown",
      "source": [
        "### F.) Access All Other Method\n",
        "\n",
        "The main panel of the system\n"
      ],
      "metadata": {
        "id": "dRkty4audhrF"
      }
    },
    {
      "cell_type": "code",
      "source": [
        "def main():\n",
        "  print(\"\"\"\n",
        "  Simple Python Inventory System\n",
        "\n",
        "  Choose an action:\n",
        "  A: Add Item\n",
        "  B: Update Item\n",
        "  C: Delete Item\n",
        "  D: View Item\n",
        "  E: View All\n",
        "\n",
        "  \"\"\")\n",
        "\n",
        "  command = input(\"Enter your choice:\")\n",
        "\n",
        "  # evaluate command\n",
        "  if(command == 'a' or command == 'A'):\n",
        "    print(\"\\nAdd an item\")\n",
        "    # collect user input\n",
        "    name = input(\"Enter item name:\")\n",
        "    price = input(\"Enter price:\")\n",
        "    quantity = input(\"Enter quantity:\")\n",
        "\n",
        "    # call our function\n",
        "    addItem(name, price, quantity)\n",
        "\n",
        "  elif(command == 'b' or command == 'B'):\n",
        "    print(\"\\nUpdate an item\")\n",
        "  \n",
        "    id = input(\"Enter item id:\")\n",
        "    # before proceeding check if item exist\n",
        "\n",
        "    if checkId(id):\n",
        "      name = input(\"Enter new item name (leave blank if no changes):\")\n",
        "      price = input(\"Enter new price (leave blank if no changes):\")\n",
        "      quantity = input(\"Enter new quantity (leave blank if no changes):\")\n",
        "\n",
        "      # create changes dictionary\n",
        "      dirtyChanges = {\"name\": name, \"price\": price, \"quantity\": quantity}\n",
        "\n",
        "      # remove empty key-value pairs\n",
        "      cleanChanges = cleanDict(dirtyChanges)\n",
        "\n",
        "      # call our function\n",
        "      updateItem(id, cleanChanges)\n",
        "\n",
        "\n",
        "  elif(command == 'c' or command == 'C'):\n",
        "    print(\"\\nDelete an item\")\n",
        "  \n",
        "    id = input(\"Enter item id:\")\n",
        "    # before proceeding check if item exist\n",
        "\n",
        "    if checkId(id):\n",
        "      # call our function\n",
        "      deleteItem(id)\n",
        "\n",
        "  elif(command == 'd' or command == 'D'):\n",
        "    print(\"View an item\")\n",
        "  \n",
        "    id = input(\"Enter item id:\")\n",
        "    # before proceeding check if item exist\n",
        "\n",
        "    if checkId(id):\n",
        "      # call our function\n",
        "      viewItem(id)\n",
        "\n",
        "  elif(command == 'e' or command == 'E'):\n",
        "    print(\"\\nView all items\")\n",
        "  \n",
        "    # call our function\n",
        "    viewAll()\n",
        "\n",
        "\n",
        "  else:\n",
        "    print(\"Error! Command not found!\")\n",
        "\n",
        "\n",
        "\n",
        "# start the system\n",
        "main()"
      ],
      "metadata": {
        "id": "8wq1W2WDdjmt"
      },
      "execution_count": null,
      "outputs": []
    },
    {
      "cell_type": "markdown",
      "source": [
        "## III - Helper function\n",
        "\n",
        "### A.) Remove empty key-value pair"
      ],
      "metadata": {
        "id": "QdjLtby1kSRG"
      }
    },
    {
      "cell_type": "code",
      "source": [
        "def cleanDict(data):\n",
        "  return {k: v for k, v in data.items() if v}"
      ],
      "metadata": {
        "id": "XatoBHohkf9V"
      },
      "execution_count": 113,
      "outputs": []
    },
    {
      "cell_type": "markdown",
      "source": [
        "### B.) Check if ID exist\n"
      ],
      "metadata": {
        "id": "W5HXi5gQnBZN"
      }
    },
    {
      "cell_type": "code",
      "source": [
        "def checkId(id):\n",
        "   if id in itemDict:\n",
        "    return True\n",
        "   else:\n",
        "    # not found\n",
        "    print(f\"Error! Item with id {id} doesn't exist\")"
      ],
      "metadata": {
        "id": "sA6IIzJenBJc"
      },
      "execution_count": 121,
      "outputs": []
    }
  ]
}